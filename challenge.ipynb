{
 "cells": [
  {
   "cell_type": "markdown",
   "id": "856b79bb-96b8-47d8-b1f3-412f26ba2b85",
   "metadata": {},
   "source": [
    "Albert and the ear shells\n",
    "========================="
   ]
  },
  {
   "cell_type": "markdown",
   "id": "c54ea6f5-b1e5-4866-b0fb-9b534dc8485c",
   "metadata": {},
   "source": [
    "Ear shells are marine snails.\n",
    "\n",
    "The age of ear shells can be determined by cutting the shell through the cone, staining it, and counting the number of rings through a microscope - a boring and time-consuming task. \n",
    "\n",
    "**Albert**, a scientist and **ear shells** specialist, needs your help. He has collected data on his favorite sea creature and asks you to help him understand it. Then, he would like you to develop a model to predict the number of rings of ear shells (a proxy to their age) using other measurements which are easier to obtain."
   ]
  },
  {
   "cell_type": "markdown",
   "id": "b81bdb13-0c07-4778-8677-af9ebe58d09a",
   "metadata": {},
   "source": [
    "# Part 0: Setup"
   ]
  },
  {
   "cell_type": "markdown",
   "id": "c73bfd8e-adb7-40e7-8557-2ef0a7765961",
   "metadata": {},
   "source": [
    "Please include any setup code (including imports) in this section."
   ]
  },
  {
   "cell_type": "code",
   "id": "df283781",
   "metadata": {
    "vscode": {
     "languageId": "plaintext"
    },
    "ExecuteTime": {
     "end_time": "2024-11-10T09:14:24.115695Z",
     "start_time": "2024-11-10T09:14:23.566806Z"
    }
   },
   "source": [
    "import pandas as pd\n",
    "import seaborn as sns\n",
    "import matplotlib.pyplot as plt\n",
    "import numpy as np\n",
    "from sklearn.ensemble import RandomForestRegressor\n",
    "from sklearn.metrics import mean_absolute_error, mean_squared_error, r2_score"
   ],
   "outputs": [],
   "execution_count": 1
  },
  {
   "cell_type": "markdown",
   "id": "37cc284d-5250-48b1-8f72-f266bfcd94ca",
   "metadata": {},
   "source": [
    "# Part 1: Data understanding"
   ]
  },
  {
   "cell_type": "markdown",
   "id": "225f9fcc-8653-49ce-a5ce-4c21e6f41e21",
   "metadata": {
    "tags": []
   },
   "source": [
    "## Loading, processing and exploring data"
   ]
  },
  {
   "cell_type": "markdown",
   "id": "1ed54525-19b6-4ed9-9344-f99c5bab77c1",
   "metadata": {},
   "source": [
    "Albert has provided you the dataset `earshells.csv`. Please load it and do what every diligent Data Scientist should do when received a new dataset!"
   ]
  },
  {
   "cell_type": "code",
   "id": "99046275",
   "metadata": {
    "vscode": {
     "languageId": "plaintext"
    },
    "ExecuteTime": {
     "end_time": "2024-10-24T16:36:31.358073Z",
     "start_time": "2024-10-24T16:36:31.322739Z"
    }
   },
   "source": [
    "data = pd.read_csv('data/earshells.csv')\n",
    "print(data.head())\n",
    "data = data.drop_duplicates()\n",
    "data['rings'] = data['rings'].fillna(data['rings'].mean())\n",
    "data['price'] = data['price'].fillna(data['price'].mean())\n",
    "print(data.isnull().sum())\n"
   ],
   "outputs": [
    {
     "name": "stdout",
     "output_type": "stream",
     "text": [
      "  subset sex    length  diameter    height  weight_whole  weight_shucked  \\\n",
      "0  train   I  0.349544  0.260194  0.074504      0.179963        0.089707   \n",
      "1  train   F  0.545249  0.439866  0.134915      0.918132        0.428983   \n",
      "2   test   F  0.649654  0.544545  0.175080      1.524459        0.590134   \n",
      "3  train   I  0.500003  0.394566  0.140912      0.621133        0.292336   \n",
      "4  train   I  0.439268  0.335001  0.110040      0.389429        0.175157   \n",
      "\n",
      "   weight_viscera  weight_shell  rings      price  \n",
      "0        0.024760      0.054516    5.0   1.205721  \n",
      "1        0.201751      0.237840   10.0  18.403463  \n",
      "2        0.325970      0.495506   10.0  31.455767  \n",
      "3        0.120165      0.195429    9.0   5.647747  \n",
      "4        0.083279      0.110899    7.0   1.966989  \n",
      "subset            0\n",
      "sex               0\n",
      "length            0\n",
      "diameter          0\n",
      "height            0\n",
      "weight_whole      0\n",
      "weight_shucked    0\n",
      "weight_viscera    0\n",
      "weight_shell      0\n",
      "rings             0\n",
      "price             0\n",
      "dtype: int64\n"
     ]
    }
   ],
   "execution_count": 61
  },
  {
   "metadata": {
    "ExecuteTime": {
     "end_time": "2024-10-24T16:36:31.368814Z",
     "start_time": "2024-10-24T16:36:31.359080Z"
    }
   },
   "cell_type": "code",
   "source": [
    "data_price_sorted_desc = data['price'].sort_values(ascending=False)\n",
    "print(data_price_sorted_desc.head())\n",
    "\n",
    "data_diameter_sorted_desc = data['diameter'].sort_values(ascending=False)\n",
    "print(data_diameter_sorted_desc.head())"
   ],
   "id": "b1f32566baf5c624",
   "outputs": [
    {
     "name": "stdout",
     "output_type": "stream",
     "text": [
      "100     52.901790\n",
      "2185    50.901227\n",
      "960     49.611253\n",
      "2961    49.105115\n",
      "357     45.913030\n",
      "Name: price, dtype: float64\n",
      "2621    3.491197\n",
      "2868    2.087074\n",
      "1155    2.081404\n",
      "2234    1.593748\n",
      "3039    1.496710\n",
      "Name: diameter, dtype: float64\n"
     ]
    }
   ],
   "execution_count": 62
  },
  {
   "cell_type": "markdown",
   "id": "dbb318c6-7834-4d12-88ff-1d430926199f",
   "metadata": {},
   "source": [
    "## Questions"
   ]
  },
  {
   "cell_type": "markdown",
   "id": "f6e75634-9619-488a-a7a0-cb8c9dc5d9f6",
   "metadata": {},
   "source": [
    "Albert needs your help getting a deeper understanding of one particular aspect of this data: the price of ear shells. Can you help him?"
   ]
  },
  {
   "cell_type": "markdown",
   "id": "b316264b-f536-49f3-9ef1-1d491307c35b",
   "metadata": {},
   "source": [
    "### Question 1.1"
   ]
  },
  {
   "cell_type": "markdown",
   "id": "5f1435c8-04c2-43a3-8d2d-59d7b6e600dc",
   "metadata": {},
   "source": [
    "What's the **average price** for ear shells with a **diameter** falling outside the interquartile range (of diameter)?"
   ]
  },
  {
   "cell_type": "code",
   "id": "05c11ed6",
   "metadata": {
    "vscode": {
     "languageId": "plaintext"
    },
    "ExecuteTime": {
     "end_time": "2024-10-24T16:36:31.405348Z",
     "start_time": "2024-10-24T16:36:31.398148Z"
    }
   },
   "source": [
    "Q1 = data['diameter'].quantile(0.25)\n",
    "Q3 = data['diameter'].quantile(0.75)"
   ],
   "outputs": [],
   "execution_count": 63
  },
  {
   "metadata": {
    "ExecuteTime": {
     "end_time": "2024-10-24T16:36:31.448253Z",
     "start_time": "2024-10-24T16:36:31.439042Z"
    }
   },
   "cell_type": "code",
   "source": [
    "outside_IQR = data[(data['diameter'] < Q1) | (data['diameter'] > Q3)]\n",
    "average_price = outside_IQR['price'].mean()\n",
    "\n",
    "print(f\"The average price for earshells with diameters outside the IQR is: {average_price:.2f}CHF\")"
   ],
   "id": "88c278e9a2d46da3",
   "outputs": [
    {
     "name": "stdout",
     "output_type": "stream",
     "text": [
      "The average price for earshells with diameters outside the IQR is: 13.09CHF\n"
     ]
    }
   ],
   "execution_count": 64
  },
  {
   "cell_type": "markdown",
   "id": "6805854b-eb80-4b62-a210-d622b00a6743",
   "metadata": {},
   "source": "### Question 1.2"
  },
  {
   "cell_type": "markdown",
   "id": "4d492d02-2b40-4929-b1fe-5692865c3cd9",
   "metadata": {},
   "source": [
    "Albert would like to understand which factors / attributes have been used to determine the price. Please provide him with **one clear visualization** which explicits the dependency between the price and the most relevant attributes."
   ]
  },
  {
   "metadata": {},
   "cell_type": "markdown",
   "source": "To visualize the dependency between the price and the most relevant attributes, a correlation matrix is ideal! Albert can have a look at the last row of the matrix and clearly sees which feature is the most important.",
   "id": "15e24c9a751f9bf5"
  },
  {
   "cell_type": "code",
   "id": "545836c8",
   "metadata": {
    "vscode": {
     "languageId": "plaintext"
    },
    "ExecuteTime": {
     "end_time": "2024-10-24T16:41:22.363036Z",
     "start_time": "2024-10-24T16:41:21.810982Z"
    }
   },
   "source": [
    "numeric_cols = data.select_dtypes(include=['float64', 'int64']).columns\n",
    "correlation_matrix = data[numeric_cols].corr()\n",
    "price_correlations = correlation_matrix['price'].drop('price').abs().sort_values(ascending=False)\n",
    "print(\"Correlation of features with price:\")\n",
    "print(price_correlations)\n",
    "\n",
    "top_attributes = price_correlations.index[:3].tolist()\n",
    "print(\"Top attributes correlated with price:\", top_attributes)\n",
    "\n",
    "plt.figure(figsize=(10, 8))\n",
    "\n",
    "mask = np.triu(np.ones_like(correlation_matrix, dtype=bool)) # The upper part of the matrix may confuse poor Albert\n",
    "\n",
    "sns.heatmap(correlation_matrix, mask=mask, annot=True, fmt=\".2f\", cmap='autumn_r', linewidths=0.5)\n",
    "\n",
    "plt.title('Correlation Heatmap of Numeric Features of an Earshell')\n",
    "#plt.show()\n",
    "plt.savefig('visu.png', bbox_inches='tight')"
   ],
   "outputs": [
    {
     "name": "stdout",
     "output_type": "stream",
     "text": [
      "Correlation of features with price:\n",
      "weight_whole      0.926525\n",
      "weight_shucked    0.898634\n",
      "weight_shell      0.826825\n",
      "length            0.738854\n",
      "weight_viscera    0.702958\n",
      "diameter          0.645403\n",
      "rings             0.608447\n",
      "height            0.355547\n",
      "Name: price, dtype: float64\n",
      "Top attributes correlated with price: ['weight_whole', 'weight_shucked', 'weight_shell']\n"
     ]
    },
    {
     "data": {
      "text/plain": [
       "<Figure size 1000x800 with 2 Axes>"
      ],
      "image/png": "[encoded data removed]"
     },
     "metadata": {},
     "output_type": "display_data"
    }
   ],
   "execution_count": 72
  },
  {
   "cell_type": "markdown",
   "id": "2adc46ff-2485-457b-9fac-ae9bfe8f9eb2",
   "metadata": {},
   "source": [
    "# Part 2: Modeling"
   ]
  },
  {
   "cell_type": "markdown",
   "id": "aa4a1708-4d3b-47c8-8ac6-7070cd5fbdc6",
   "metadata": {},
   "source": [
    "Albert loves ML! He asks you to use your ML skills to train a model that will predict the **number of rings** based on the other attributes.\n",
    "\n",
    "Albert was kind enough to pre-assign the dataset samples to train-test with the `subset` attribute. `test` samples should obviously not be used during the training procedure!\n",
    "\n",
    "Please start with training a quick and easy model below and then spend some time to **fill out the questions** so we better understand your thought process."
   ]
  },
  {
   "cell_type": "code",
   "id": "090a9790",
   "metadata": {
    "vscode": {
     "languageId": "plaintext"
    },
    "ExecuteTime": {
     "end_time": "2024-10-24T16:36:32.022895Z",
     "start_time": "2024-10-24T16:36:32.015405Z"
    }
   },
   "source": [
    "train_data = data[data['subset'] == 'train'].copy()\n",
    "test_data = data[data['subset'] == 'test'].copy()"
   ],
   "outputs": [],
   "execution_count": 66
  },
  {
   "metadata": {
    "ExecuteTime": {
     "end_time": "2024-10-24T16:36:32.036944Z",
     "start_time": "2024-10-24T16:36:32.023906Z"
    }
   },
   "cell_type": "code",
   "source": [
    "categorical_cols = train_data.select_dtypes(include=['object']).columns.tolist()\n",
    "categorical_cols.remove('subset')\n",
    "\n",
    "print(\"Categorical columns:\", categorical_cols)\n",
    "\n",
    "combined_data = pd.concat([train_data, test_data], keys=['train', 'test'])\n",
    "\n",
    "combined_data = pd.get_dummies(combined_data, columns=categorical_cols)\n",
    "\n",
    "train_data_encoded = combined_data.xs('train')\n",
    "test_data_encoded = combined_data.xs('test')\n"
   ],
   "id": "6dbfaa4333252b5c",
   "outputs": [
    {
     "name": "stdout",
     "output_type": "stream",
     "text": [
      "Categorical columns: ['sex']\n"
     ]
    }
   ],
   "execution_count": 67
  },
  {
   "metadata": {
    "ExecuteTime": {
     "end_time": "2024-10-24T16:36:32.046364Z",
     "start_time": "2024-10-24T16:36:32.038955Z"
    }
   },
   "cell_type": "code",
   "source": [
    "y_train = train_data_encoded['rings']\n",
    "y_test = test_data_encoded['rings']\n",
    "\n",
    "X_train = train_data_encoded.drop(columns=['rings', 'subset'])\n",
    "X_test = test_data_encoded.drop(columns=['rings', 'subset'])\n",
    "\n",
    "print(\"Features in training set:\", X_train.columns.tolist())"
   ],
   "id": "24a263c53bd906fe",
   "outputs": [
    {
     "name": "stdout",
     "output_type": "stream",
     "text": [
      "Features in training set: ['length', 'diameter', 'height', 'weight_whole', 'weight_shucked', 'weight_viscera', 'weight_shell', 'price', 'sex_F', 'sex_I', 'sex_M']\n"
     ]
    }
   ],
   "execution_count": 68
  },
  {
   "metadata": {
    "ExecuteTime": {
     "end_time": "2024-10-24T16:36:36.825190Z",
     "start_time": "2024-10-24T16:36:32.048376Z"
    }
   },
   "cell_type": "code",
   "source": [
    "rf_model = RandomForestRegressor(n_estimators=200, random_state=63)\n",
    "rf_model.fit(X_train, y_train)\n"
   ],
   "id": "ed2135354f1641fb",
   "outputs": [
    {
     "data": {
      "text/plain": [
       "RandomForestRegressor(n_estimators=200, random_state=63)"
      ],
      "text/html": [
       "<style>#sk-container-id-2 {\n",
       "  /* Definition of color scheme common for light and dark mode */\n",
       "  --sklearn-color-text: black;\n",
       "  --sklearn-color-line: gray;\n",
       "  /* Definition of color scheme for unfitted estimators */\n",
       "  --sklearn-color-unfitted-level-0: #fff5e6;\n",
       "  --sklearn-color-unfitted-level-1: #f6e4d2;\n",
       "  --sklearn-color-unfitted-level-2: #ffe0b3;\n",
       "  --sklearn-color-unfitted-level-3: chocolate;\n",
       "  /* Definition of color scheme for fitted estimators */\n",
       "  --sklearn-color-fitted-level-0: #f0f8ff;\n",
       "  --sklearn-color-fitted-level-1: #d4ebff;\n",
       "  --sklearn-color-fitted-level-2: #b3dbfd;\n",
       "  --sklearn-color-fitted-level-3: cornflowerblue;\n",
       "\n",
       "  /* Specific color for light theme */\n",
       "  --sklearn-color-text-on-default-background: var(--sg-text-color, var(--theme-code-foreground, var(--jp-content-font-color1, black)));\n",
       "  --sklearn-color-background: var(--sg-background-color, var(--theme-background, var(--jp-layout-color0, white)));\n",
       "  --sklearn-color-border-box: var(--sg-text-color, var(--theme-code-foreground, var(--jp-content-font-color1, black)));\n",
       "  --sklearn-color-icon: #696969;\n",
       "\n",
       "  @media (prefers-color-scheme: dark) {\n",
       "    /* Redefinition of color scheme for dark theme */\n",
       "    --sklearn-color-text-on-default-background: var(--sg-text-color, var(--theme-code-foreground, var(--jp-content-font-color1, white)));\n",
       "    --sklearn-color-background: var(--sg-background-color, var(--theme-background, var(--jp-layout-color0, #111)));\n",
       "    --sklearn-color-border-box: var(--sg-text-color, var(--theme-code-foreground, var(--jp-content-font-color1, white)));\n",
       "    --sklearn-color-icon: #878787;\n",
       "  }\n",
       "}\n",
       "\n",
       "#sk-container-id-2 {\n",
       "  color: var(--sklearn-color-text);\n",
       "}\n",
       "\n",
       "#sk-container-id-2 pre {\n",
       "  padding: 0;\n",
       "}\n",
       "\n",
       "#sk-container-id-2 input.sk-hidden--visually {\n",
       "  border: 0;\n",
       "  clip: rect(1px 1px 1px 1px);\n",
       "  clip: rect(1px, 1px, 1px, 1px);\n",
       "  height: 1px;\n",
       "  margin: -1px;\n",
       "  overflow: hidden;\n",
       "  padding: 0;\n",
       "  position: absolute;\n",
       "  width: 1px;\n",
       "}\n",
       "\n",
       "#sk-container-id-2 div.sk-dashed-wrapped {\n",
       "  border: 1px dashed var(--sklearn-color-line);\n",
       "  margin: 0 0.4em 0.5em 0.4em;\n",
       "  box-sizing: border-box;\n",
       "  padding-bottom: 0.4em;\n",
       "  background-color: var(--sklearn-color-background);\n",
       "}\n",
       "\n",
       "#sk-container-id-2 div.sk-container {\n",
       "  /* jupyter's `normalize.less` sets `[hidden] { display: none; }`\n",
       "     but bootstrap.min.css set `[hidden] { display: none !important; }`\n",
       "     so we also need the `!important` here to be able to override the\n",
       "     default hidden behavior on the sphinx rendered scikit-learn.org.\n",
       "     See: https://github.com/scikit-learn/scikit-learn/issues/21755 */\n",
       "  display: inline-block !important;\n",
       "  position: relative;\n",
       "}\n",
       "\n",
       "#sk-container-id-2 div.sk-text-repr-fallback {\n",
       "  display: none;\n",
       "}\n",
       "\n",
       "div.sk-parallel-item,\n",
       "div.sk-serial,\n",
       "div.sk-item {\n",
       "  /* draw centered vertical line to link estimators */\n",
       "  background-image: linear-gradient(var(--sklearn-color-text-on-default-background), var(--sklearn-color-text-on-default-background));\n",
       "  background-size: 2px 100%;\n",
       "  background-repeat: no-repeat;\n",
       "  background-position: center center;\n",
       "}\n",
       "\n",
       "/* Parallel-specific style estimator block */\n",
       "\n",
       "#sk-container-id-2 div.sk-parallel-item::after {\n",
       "  content: \"\";\n",
       "  width: 100%;\n",
       "  border-bottom: 2px solid var(--sklearn-color-text-on-default-background);\n",
       "  flex-grow: 1;\n",
       "}\n",
       "\n",
       "#sk-container-id-2 div.sk-parallel {\n",
       "  display: flex;\n",
       "  align-items: stretch;\n",
       "  justify-content: center;\n",
       "  background-color: var(--sklearn-color-background);\n",
       "  position: relative;\n",
       "}\n",
       "\n",
       "#sk-container-id-2 div.sk-parallel-item {\n",
       "  display: flex;\n",
       "  flex-direction: column;\n",
       "}\n",
       "\n",
       "#sk-container-id-2 div.sk-parallel-item:first-child::after {\n",
       "  align-self: flex-end;\n",
       "  width: 50%;\n",
       "}\n",
       "\n",
       "#sk-container-id-2 div.sk-parallel-item:last-child::after {\n",
       "  align-self: flex-start;\n",
       "  width: 50%;\n",
       "}\n",
       "\n",
       "#sk-container-id-2 div.sk-parallel-item:only-child::after {\n",
       "  width: 0;\n",
       "}\n",
       "\n",
       "/* Serial-specific style estimator block */\n",
       "\n",
       "#sk-container-id-2 div.sk-serial {\n",
       "  display: flex;\n",
       "  flex-direction: column;\n",
       "  align-items: center;\n",
       "  background-color: var(--sklearn-color-background);\n",
       "  padding-right: 1em;\n",
       "  padding-left: 1em;\n",
       "}\n",
       "\n",
       "\n",
       "/* Toggleable style: style used for estimator/Pipeline/ColumnTransformer box that is\n",
       "clickable and can be expanded/collapsed.\n",
       "- Pipeline and ColumnTransformer use this feature and define the default style\n",
       "- Estimators will overwrite some part of the style using the `sk-estimator` class\n",
       "*/\n",
       "\n",
       "/* Pipeline and ColumnTransformer style (default) */\n",
       "\n",
       "#sk-container-id-2 div.sk-toggleable {\n",
       "  /* Default theme specific background. It is overwritten whether we have a\n",
       "  specific estimator or a Pipeline/ColumnTransformer */\n",
       "  background-color: var(--sklearn-color-background);\n",
       "}\n",
       "\n",
       "/* Toggleable label */\n",
       "#sk-container-id-2 label.sk-toggleable__label {\n",
       "  cursor: pointer;\n",
       "  display: block;\n",
       "  width: 100%;\n",
       "  margin-bottom: 0;\n",
       "  padding: 0.5em;\n",
       "  box-sizing: border-box;\n",
       "  text-align: center;\n",
       "}\n",
       "\n",
       "#sk-container-id-2 label.sk-toggleable__label-arrow:before {\n",
       "  /* Arrow on the left of the label */\n",
       "  content: \"▸\";\n",
       "  float: left;\n",
       "  margin-right: 0.25em;\n",
       "  color: var(--sklearn-color-icon);\n",
       "}\n",
       "\n",
       "#sk-container-id-2 label.sk-toggleable__label-arrow:hover:before {\n",
       "  color: var(--sklearn-color-text);\n",
       "}\n",
       "\n",
       "/* Toggleable content - dropdown */\n",
       "\n",
       "#sk-container-id-2 div.sk-toggleable__content {\n",
       "  max-height: 0;\n",
       "  max-width: 0;\n",
       "  overflow: hidden;\n",
       "  text-align: left;\n",
       "  /* unfitted */\n",
       "  background-color: var(--sklearn-color-unfitted-level-0);\n",
       "}\n",
       "\n",
       "#sk-container-id-2 div.sk-toggleable__content.fitted {\n",
       "  /* fitted */\n",
       "  background-color: var(--sklearn-color-fitted-level-0);\n",
       "}\n",
       "\n",
       "#sk-container-id-2 div.sk-toggleable__content pre {\n",
       "  margin: 0.2em;\n",
       "  border-radius: 0.25em;\n",
       "  color: var(--sklearn-color-text);\n",
       "  /* unfitted */\n",
       "  background-color: var(--sklearn-color-unfitted-level-0);\n",
       "}\n",
       "\n",
       "#sk-container-id-2 div.sk-toggleable__content.fitted pre {\n",
       "  /* unfitted */\n",
       "  background-color: var(--sklearn-color-fitted-level-0);\n",
       "}\n",
       "\n",
       "#sk-container-id-2 input.sk-toggleable__control:checked~div.sk-toggleable__content {\n",
       "  /* Expand drop-down */\n",
       "  max-height: 200px;\n",
       "  max-width: 100%;\n",
       "  overflow: auto;\n",
       "}\n",
       "\n",
       "#sk-container-id-2 input.sk-toggleable__control:checked~label.sk-toggleable__label-arrow:before {\n",
       "  content: \"▾\";\n",
       "}\n",
       "\n",
       "/* Pipeline/ColumnTransformer-specific style */\n",
       "\n",
       "#sk-container-id-2 div.sk-label input.sk-toggleable__control:checked~label.sk-toggleable__label {\n",
       "  color: var(--sklearn-color-text);\n",
       "  background-color: var(--sklearn-color-unfitted-level-2);\n",
       "}\n",
       "\n",
       "#sk-container-id-2 div.sk-label.fitted input.sk-toggleable__control:checked~label.sk-toggleable__label {\n",
       "  background-color: var(--sklearn-color-fitted-level-2);\n",
       "}\n",
       "\n",
       "/* Estimator-specific style */\n",
       "\n",
       "/* Colorize estimator box */\n",
       "#sk-container-id-2 div.sk-estimator input.sk-toggleable__control:checked~label.sk-toggleable__label {\n",
       "  /* unfitted */\n",
       "  background-color: var(--sklearn-color-unfitted-level-2);\n",
       "}\n",
       "\n",
       "#sk-container-id-2 div.sk-estimator.fitted input.sk-toggleable__control:checked~label.sk-toggleable__label {\n",
       "  /* fitted */\n",
       "  background-color: var(--sklearn-color-fitted-level-2);\n",
       "}\n",
       "\n",
       "#sk-container-id-2 div.sk-label label.sk-toggleable__label,\n",
       "#sk-container-id-2 div.sk-label label {\n",
       "  /* The background is the default theme color */\n",
       "  color: var(--sklearn-color-text-on-default-background);\n",
       "}\n",
       "\n",
       "/* On hover, darken the color of the background */\n",
       "#sk-container-id-2 div.sk-label:hover label.sk-toggleable__label {\n",
       "  color: var(--sklearn-color-text);\n",
       "  background-color: var(--sklearn-color-unfitted-level-2);\n",
       "}\n",
       "\n",
       "/* Label box, darken color on hover, fitted */\n",
       "#sk-container-id-2 div.sk-label.fitted:hover label.sk-toggleable__label.fitted {\n",
       "  color: var(--sklearn-color-text);\n",
       "  background-color: var(--sklearn-color-fitted-level-2);\n",
       "}\n",
       "\n",
       "/* Estimator label */\n",
       "\n",
       "#sk-container-id-2 div.sk-label label {\n",
       "  font-family: monospace;\n",
       "  font-weight: bold;\n",
       "  display: inline-block;\n",
       "  line-height: 1.2em;\n",
       "}\n",
       "\n",
       "#sk-container-id-2 div.sk-label-container {\n",
       "  text-align: center;\n",
       "}\n",
       "\n",
       "/* Estimator-specific */\n",
       "#sk-container-id-2 div.sk-estimator {\n",
       "  font-family: monospace;\n",
       "  border: 1px dotted var(--sklearn-color-border-box);\n",
       "  border-radius: 0.25em;\n",
       "  box-sizing: border-box;\n",
       "  margin-bottom: 0.5em;\n",
       "  /* unfitted */\n",
       "  background-color: var(--sklearn-color-unfitted-level-0);\n",
       "}\n",
       "\n",
       "#sk-container-id-2 div.sk-estimator.fitted {\n",
       "  /* fitted */\n",
       "  background-color: var(--sklearn-color-fitted-level-0);\n",
       "}\n",
       "\n",
       "/* on hover */\n",
       "#sk-container-id-2 div.sk-estimator:hover {\n",
       "  /* unfitted */\n",
       "  background-color: var(--sklearn-color-unfitted-level-2);\n",
       "}\n",
       "\n",
       "#sk-container-id-2 div.sk-estimator.fitted:hover {\n",
       "  /* fitted */\n",
       "  background-color: var(--sklearn-color-fitted-level-2);\n",
       "}\n",
       "\n",
       "/* Specification for estimator info (e.g. \"i\" and \"?\") */\n",
       "\n",
       "/* Common style for \"i\" and \"?\" */\n",
       "\n",
       ".sk-estimator-doc-link,\n",
       "a:link.sk-estimator-doc-link,\n",
       "a:visited.sk-estimator-doc-link {\n",
       "  float: right;\n",
       "  font-size: smaller;\n",
       "  line-height: 1em;\n",
       "  font-family: monospace;\n",
       "  background-color: var(--sklearn-color-background);\n",
       "  border-radius: 1em;\n",
       "  height: 1em;\n",
       "  width: 1em;\n",
       "  text-decoration: none !important;\n",
       "  margin-left: 1ex;\n",
       "  /* unfitted */\n",
       "  border: var(--sklearn-color-unfitted-level-1) 1pt solid;\n",
       "  color: var(--sklearn-color-unfitted-level-1);\n",
       "}\n",
       "\n",
       ".sk-estimator-doc-link.fitted,\n",
       "a:link.sk-estimator-doc-link.fitted,\n",
       "a:visited.sk-estimator-doc-link.fitted {\n",
       "  /* fitted */\n",
       "  border: var(--sklearn-color-fitted-level-1) 1pt solid;\n",
       "  color: var(--sklearn-color-fitted-level-1);\n",
       "}\n",
       "\n",
       "/* On hover */\n",
       "div.sk-estimator:hover .sk-estimator-doc-link:hover,\n",
       ".sk-estimator-doc-link:hover,\n",
       "div.sk-label-container:hover .sk-estimator-doc-link:hover,\n",
       ".sk-estimator-doc-link:hover {\n",
       "  /* unfitted */\n",
       "  background-color: var(--sklearn-color-unfitted-level-3);\n",
       "  color: var(--sklearn-color-background);\n",
       "  text-decoration: none;\n",
       "}\n",
       "\n",
       "div.sk-estimator.fitted:hover .sk-estimator-doc-link.fitted:hover,\n",
       ".sk-estimator-doc-link.fitted:hover,\n",
       "div.sk-label-container:hover .sk-estimator-doc-link.fitted:hover,\n",
       ".sk-estimator-doc-link.fitted:hover {\n",
       "  /* fitted */\n",
       "  background-color: var(--sklearn-color-fitted-level-3);\n",
       "  color: var(--sklearn-color-background);\n",
       "  text-decoration: none;\n",
       "}\n",
       "\n",
       "/* Span, style for the box shown on hovering the info icon */\n",
       ".sk-estimator-doc-link span {\n",
       "  display: none;\n",
       "  z-index: 9999;\n",
       "  position: relative;\n",
       "  font-weight: normal;\n",
       "  right: .2ex;\n",
       "  padding: .5ex;\n",
       "  margin: .5ex;\n",
       "  width: min-content;\n",
       "  min-width: 20ex;\n",
       "  max-width: 50ex;\n",
       "  color: var(--sklearn-color-text);\n",
       "  box-shadow: 2pt 2pt 4pt #999;\n",
       "  /* unfitted */\n",
       "  background: var(--sklearn-color-unfitted-level-0);\n",
       "  border: .5pt solid var(--sklearn-color-unfitted-level-3);\n",
       "}\n",
       "\n",
       ".sk-estimator-doc-link.fitted span {\n",
       "  /* fitted */\n",
       "  background: var(--sklearn-color-fitted-level-0);\n",
       "  border: var(--sklearn-color-fitted-level-3);\n",
       "}\n",
       "\n",
       ".sk-estimator-doc-link:hover span {\n",
       "  display: block;\n",
       "}\n",
       "\n",
       "/* \"?\"-specific style due to the `<a>` HTML tag */\n",
       "\n",
       "#sk-container-id-2 a.estimator_doc_link {\n",
       "  float: right;\n",
       "  font-size: 1rem;\n",
       "  line-height: 1em;\n",
       "  font-family: monospace;\n",
       "  background-color: var(--sklearn-color-background);\n",
       "  border-radius: 1rem;\n",
       "  height: 1rem;\n",
       "  width: 1rem;\n",
       "  text-decoration: none;\n",
       "  /* unfitted */\n",
       "  color: var(--sklearn-color-unfitted-level-1);\n",
       "  border: var(--sklearn-color-unfitted-level-1) 1pt solid;\n",
       "}\n",
       "\n",
       "#sk-container-id-2 a.estimator_doc_link.fitted {\n",
       "  /* fitted */\n",
       "  border: var(--sklearn-color-fitted-level-1) 1pt solid;\n",
       "  color: var(--sklearn-color-fitted-level-1);\n",
       "}\n",
       "\n",
       "/* On hover */\n",
       "#sk-container-id-2 a.estimator_doc_link:hover {\n",
       "  /* unfitted */\n",
       "  background-color: var(--sklearn-color-unfitted-level-3);\n",
       "  color: var(--sklearn-color-background);\n",
       "  text-decoration: none;\n",
       "}\n",
       "\n",
       "#sk-container-id-2 a.estimator_doc_link.fitted:hover {\n",
       "  /* fitted */\n",
       "  background-color: var(--sklearn-color-fitted-level-3);\n",
       "}\n",
       "</style><div id=\"sk-container-id-2\" class=\"sk-top-container\"><div class=\"sk-text-repr-fallback\"><pre>RandomForestRegressor(n_estimators=200, random_state=63)</pre><b>In a Jupyter environment, please rerun this cell to show the HTML representation or trust the notebook. <br />On GitHub, the HTML representation is unable to render, please try loading this page with nbviewer.org.</b></div><div class=\"sk-container\" hidden><div class=\"sk-item\"><div class=\"sk-estimator fitted sk-toggleable\"><input class=\"sk-toggleable__control sk-hidden--visually\" id=\"sk-estimator-id-2\" type=\"checkbox\" checked><label for=\"sk-estimator-id-2\" class=\"sk-toggleable__label fitted sk-toggleable__label-arrow fitted\">&nbsp;&nbsp;RandomForestRegressor<a class=\"sk-estimator-doc-link fitted\" rel=\"noreferrer\" target=\"_blank\" href=\"https://scikit-learn.org/1.5/modules/generated/sklearn.ensemble.RandomForestRegressor.html\">?<span>Documentation for RandomForestRegressor</span></a><span class=\"sk-estimator-doc-link fitted\">i<span>Fitted</span></span></label><div class=\"sk-toggleable__content fitted\"><pre>RandomForestRegressor(n_estimators=200, random_state=63)</pre></div> </div></div></div></div>"
      ]
     },
     "execution_count": 69,
     "metadata": {},
     "output_type": "execute_result"
    }
   ],
   "execution_count": 69
  },
  {
   "metadata": {
    "ExecuteTime": {
     "end_time": "2024-10-24T16:36:36.855025Z",
     "start_time": "2024-10-24T16:36:36.831304Z"
    }
   },
   "cell_type": "code",
   "source": [
    "importances = rf_model.feature_importances_\n",
    "feature_names = X_train.columns\n",
    "feature_importance_df = pd.DataFrame({'Feature': feature_names, 'Importance': importances})\n",
    "feature_importance_df.sort_values(by='Importance', ascending=False, inplace=True)\n",
    "\n",
    "print(\"Top 10 Feature Importances:\")\n",
    "print(feature_importance_df.head(10))"
   ],
   "id": "2db1da7e7899df58",
   "outputs": [
    {
     "name": "stdout",
     "output_type": "stream",
     "text": [
      "Top 10 Feature Importances:\n",
      "           Feature  Importance\n",
      "6     weight_shell    0.483377\n",
      "7            price    0.116254\n",
      "1         diameter    0.090102\n",
      "4   weight_shucked    0.069780\n",
      "2           height    0.058661\n",
      "5   weight_viscera    0.053630\n",
      "0           length    0.052318\n",
      "3     weight_whole    0.040320\n",
      "9            sex_I    0.028908\n",
      "10           sex_M    0.005007\n"
     ]
    }
   ],
   "execution_count": 70
  },
  {
   "cell_type": "markdown",
   "id": "b786b4cd",
   "metadata": {
    "collapsed": false,
    "pycharm": {
     "name": "#%% md\n"
    }
   },
   "source": [
    "## Question 2.1"
   ]
  },
  {
   "cell_type": "markdown",
   "id": "94af945c",
   "metadata": {
    "collapsed": false,
    "pycharm": {
     "name": "#%% md\n"
    }
   },
   "source": [
    "Which model will you choose to accomplish this task? Briefly explain why below."
   ]
  },
  {
   "metadata": {},
   "cell_type": "markdown",
   "source": "The task is basically to predict a discrete variable representing the number of rings using the other attributes. For that, I used a Random Forest algorithm to perform a regression, which will use to most important features to make its predictions.",
   "id": "5b9a08f51e14c104"
  },
  {
   "cell_type": "markdown",
   "id": "e4faa439",
   "metadata": {},
   "source": []
  },
  {
   "cell_type": "markdown",
   "id": "568952ec-c322-4c01-bd83-b8e72aba9cfd",
   "metadata": {},
   "source": [
    "## Question 2.2"
   ]
  },
  {
   "cell_type": "markdown",
   "id": "e3fb0a55-4211-4537-8ffc-7526e814ad5c",
   "metadata": {},
   "source": [
    "Which metric would you choose to communicate the performance of your model to Albert? Briefly explain why below."
   ]
  },
  {
   "metadata": {},
   "cell_type": "markdown",
   "source": "Mean Absolute Error is the easiest for Albert to understand. A MAE of 0.86 means that the model, on average, predicts the correct number of rings +/- 0.86 ring.",
   "id": "d37ff7c2b55dd735"
  },
  {
   "cell_type": "markdown",
   "id": "a5c3f64a-ba5e-4e33-8b3a-354cef4bd8d5",
   "metadata": {},
   "source": [
    "## Question 2.3"
   ]
  },
  {
   "cell_type": "markdown",
   "id": "2f5f39cc-1a73-4d6b-b22f-1f5c399106ff",
   "metadata": {},
   "source": [
    "How's your model performing? Please provide the value of your chosen metric on the **test samples** and briefly discuss it below."
   ]
  },
  {
   "metadata": {
    "ExecuteTime": {
     "end_time": "2024-10-24T16:36:36.886764Z",
     "start_time": "2024-10-24T16:36:36.856032Z"
    }
   },
   "cell_type": "code",
   "source": [
    "y_pred = rf_model.predict(X_test)\n",
    "\n",
    "mae = mean_absolute_error(y_test, y_pred)\n",
    "mse = mean_squared_error(y_test, y_pred)\n",
    "rmse = mse ** 0.5\n",
    "r2 = r2_score(y_test, y_pred)\n",
    "\n",
    "print(f\"Model Performance on Test Set:\")\n",
    "print(f\"Mean Absolute Error (MAE): {mae:.2f}\")\n",
    "print(f\"Root Mean Squared Error (RMSE): {rmse:.2f}\")\n",
    "print(f\"R-squared (R²): {r2:.2f}\")"
   ],
   "id": "a56d30094d8ebafe",
   "outputs": [
    {
     "name": "stdout",
     "output_type": "stream",
     "text": [
      "Model Performance on Test Set:\n",
      "Mean Absolute Error (MAE): 0.86\n",
      "Root Mean Squared Error (RMSE): 1.08\n",
      "R-squared (R²): 0.57\n"
     ]
    }
   ],
   "execution_count": 71
  },
  {
   "metadata": {},
   "cell_type": "markdown",
   "source": "An average error (MAE = 0.86) of less than one ring is relatively low.",
   "id": "112acd23f13731a3"
  },
  {
   "metadata": {},
   "cell_type": "markdown",
   "source": "",
   "id": "2245d65710b7ce84"
  },
  {
   "cell_type": "markdown",
   "id": "2301ecd2",
   "metadata": {},
   "source": "An R² of 0.56 means that the model explains 56% of the variance in the number of rings, which is not a crazy high level of explanations."
  },
  {
   "cell_type": "markdown",
   "id": "14fd21af-69b8-41b9-8a89-d9b0bb264520",
   "metadata": {},
   "source": [
    "# The end !"
   ]
  },
  {
   "cell_type": "markdown",
   "id": "c88fa073-627e-4bc7-9052-4afa4733d14f",
   "metadata": {},
   "source": [
    "Thank you for participating in this challenge, we hope you enjoyed it!\n",
    "\n",
    "Don't forget to upload your work at the link you got by mail:\n",
    "- your notebook `challenge.ipynb`\n",
    "- an image of your visualization for question 1.2\n",
    "- a `requirements.txt` file listing your dependencies"
   ]
  }
 ],
 "metadata": {
  "kernelspec": {
   "display_name": "Python 3 (ipykernel)",
   "language": "python",
   "name": "python3"
  },
  "language_info": {
   "codemirror_mode": {
    "name": "ipython",
    "version": 3
   },
   "file_extension": ".py",
   "mimetype": "text/x-python",
   "name": "python",
   "nbconvert_exporter": "python",
   "pygments_lexer": "ipython3",
   "version": "3.9.10"
  }
 },
 "nbformat": 4,
 "nbformat_minor": 5
}
